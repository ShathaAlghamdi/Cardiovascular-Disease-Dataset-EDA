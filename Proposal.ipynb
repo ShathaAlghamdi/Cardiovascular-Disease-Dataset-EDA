{
 "cells": [
  {
   "cell_type": "markdown",
   "id": "00dff5f2",
   "metadata": {},
   "source": [
    "# Proposal : Cardiovascular Disease dataset"
   ]
  },
  {
   "cell_type": "markdown",
   "id": "74b56491",
   "metadata": {},
   "source": [
    "## Dataset Overview:"
   ]
  },
  {
   "cell_type": "markdown",
   "id": "40aa50f5",
   "metadata": {},
   "source": [
    "All the values in the dataset were collected at the time of medical examination and provided information about the signs of Cardiovascular Disease. This Dataset has 70,000 observations(rows) and 12 features(columns). "
   ]
  },
  {
   "cell_type": "markdown",
   "id": "332a3b59",
   "metadata": {},
   "source": [
    "### Data description"
   ]
  },
  {
   "cell_type": "markdown",
   "id": "2297ad91",
   "metadata": {},
   "source": [
    "  ### There are 3 types of input columns:\n",
    "\n",
    " 1. **Objective:** factual information ,\n",
    " 2. **Examination:** results of medical examination;\n",
    " 3. **Subjective:** information was given by the patient.\n",
    "        \n",
    " ### Columns description\n",
    " \n",
    " \n",
    "  1. **Objective Feature** \n",
    "     - Age | age | int (days)\n",
    "     - Height |  height | int (cm) \n",
    "     - Weight |  weight | float (kg) \n",
    "     - Gender |  gender | categorical \n",
    "   \n",
    "   \n",
    "  2. **Examination Feature** \n",
    "     - Systolic blood pressure  | ap_hi | int \n",
    "\t - Diastolic blood pressure | ap_lo | int \n",
    "\t - Cholesterol | cholesterol | 1: normal, 2: above normal, 3: well above normal \n",
    "\t - Glucose | gluc | 1: normal, 2: above normal, 3: well above normal \n",
    "        \n",
    "        \n",
    "  3. **Subjective Feature**\n",
    "     - Smoking | smoke | binary\n",
    "\t - Alcohol intake  alco | binary \n",
    "\t - Physical activity | Subjective Feature | active | binary \n",
    "     - Presence or absence of cardiovascular disease | Target Variable | cardio | binary |\n"
   ]
  },
  {
   "cell_type": "markdown",
   "id": "fff42576",
   "metadata": {},
   "source": [
    "## MVP Goal :\n",
    "     \n",
    "  The goal is to do exploratory data analysis (EDA) to answer these questions :\n",
    "  \n",
    "   1. What is the most gender is exposed to be Cardiovascular Disease that has? \n",
    "   <br>\n",
    "   2. Is there a relationship between smoking and getting  Cardiovascular Disease?\n",
    "   <br>\n",
    "   3. Is there a relationship between age and getting Cardiovascular Disease?\n",
    "   <br>\n",
    "   4. what is the age that has the most patient number of Cardiovascular Disease?\n",
    "   <br>\n",
    "   5. How many Smokers and Non-Smokers do not have a Cardiovascular Disease?\n",
    "   <br>\n",
    "   6. How many Smokers and Non-Smokers have a Cardiovascular Disease? \n",
    "   <br>\n",
    "   7. Is their a relationship between doing physical activity and not having a Cardiovascular Disease?\n",
    "   <br>\n",
    "   8. Is there a relationship between being overweight and having  Cardiovascular Disease? \n",
    "   <br>\n",
    "   9. How many cholesterol patients have a Cardiovascular and at what level they are?\n",
    "   <br>\n",
    "   10. What is the cholesterol level  that has a large number of Cardiovascular Disease?\n",
    "    <br>\n",
    "   11. How many alcoholics are Cardiovascular Disease?\n",
    "    <br>"
   ]
  },
  {
   "cell_type": "markdown",
   "id": "07c1635e",
   "metadata": {},
   "source": [
    "## Dataset sourec:"
   ]
  },
  {
   "cell_type": "markdown",
   "id": "2f96d700",
   "metadata": {},
   "source": [
    "#### Kaggle.com :  \n",
    "   - To download the dataset [Click_here](https://www.kaggle.com/sulianova/cardiovascular-disease-dataset)"
   ]
  },
  {
   "cell_type": "markdown",
   "id": "32fec020",
   "metadata": {},
   "source": [
    "## Tools : \n",
    "   - VSCode\n",
    "   - Jupyter notebook\n",
    "   - Python lang\n",
    "   - Github & Git"
   ]
  },
  {
   "cell_type": "code",
   "execution_count": null,
   "id": "afe9f31f",
   "metadata": {},
   "outputs": [],
   "source": []
  }
 ],
 "metadata": {
  "kernelspec": {
   "display_name": "Python 3",
   "language": "python",
   "name": "python3"
  },
  "language_info": {
   "codemirror_mode": {
    "name": "ipython",
    "version": 3
   },
   "file_extension": ".py",
   "mimetype": "text/x-python",
   "name": "python",
   "nbconvert_exporter": "python",
   "pygments_lexer": "ipython3",
   "version": "3.8.8"
  }
 },
 "nbformat": 4,
 "nbformat_minor": 5
}
